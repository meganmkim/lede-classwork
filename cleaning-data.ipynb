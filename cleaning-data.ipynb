{
 "cells": [
  {
   "cell_type": "code",
   "execution_count": 27,
   "metadata": {},
   "outputs": [
    {
     "name": "stdout",
     "output_type": "stream",
     "text": [
      "1000.31   doLLaRs\n",
      "500 Dollars\n",
      "25.03 USD\n",
      "$10\n",
      "---\n"
     ]
    },
    {
     "data": {
      "text/plain": [
       "1535.34"
      ]
     },
     "execution_count": 27,
     "metadata": {},
     "output_type": "execute_result"
    }
   ],
   "source": [
    "#Write python code that prints total sum of money in this list\n",
    "\n",
    "amounts = [\n",
    "    \"   1,000.31   doLLaRs   \",\n",
    "    \"500 Dollars  \",\n",
    "    \"25.03 USD\",\n",
    "    \"$10\"\n",
    "]\n",
    "\n",
    "\n",
    "#Need to assign a variable to new list\n",
    "\n",
    "for amount in amounts:\n",
    "    clean = amount.strip()\n",
    "    clean = clean.replace(\",\", \"\")\n",
    "    print(clean)\n",
    "    \n",
    "\n",
    "#Could also choose to chain the methods instead of reassigning to same varaiblae\n",
    "print (\"---\")\n",
    "\n",
    "amount_floats = []\n",
    "for amount in amounts:\n",
    "    clean = (\n",
    "        amount\n",
    "        .strip(\" $\")\n",
    "        .replace(\",\", \"\")\n",
    "        .split(\" \")[0]\n",
    "    )\n",
    "    amount_floats.append(float(clean))\n",
    "    \n",
    "sum(amount_floats)\n"
   ]
  },
  {
   "cell_type": "code",
   "execution_count": 28,
   "metadata": {},
   "outputs": [
    {
     "name": "stdout",
     "output_type": "stream",
     "text": [
      "1535.34\n"
     ]
    }
   ],
   "source": [
    "#alternative solution\n",
    "# '+=' notation: means add to current value\n",
    "\n",
    "total = 0\n",
    "for amount in amounts:\n",
    "    clean = (\n",
    "        amount\n",
    "        .strip(\" $\")\n",
    "        .replace(\",\", \"\")\n",
    "        .split(\" \")[0]\n",
    "    )\n",
    "    total += float(clean)\n",
    "    \n",
    "print(total)"
   ]
  },
  {
   "attachments": {},
   "cell_type": "markdown",
   "metadata": {},
   "source": [
    "## New Exercise, Part 3 - with a twist"
   ]
  },
  {
   "cell_type": "code",
   "execution_count": 37,
   "metadata": {},
   "outputs": [
    {
     "name": "stdout",
     "output_type": "stream",
     "text": [
      "10\n"
     ]
    }
   ],
   "source": [
    "#My attempt\n",
    "amounts = [\n",
    "    \"   1,000.31 doLLaRs   \",\n",
    "    \"54 cents   \",\n",
    "    \"33 CENTS\",\n",
    "    \"$10\"\n",
    "]\n",
    "\n",
    "for amount in amounts:\n",
    "    clean = (\n",
    "        amount\n",
    "        .strip(\"   $\")\n",
    "        .replace(\"cents\", \"\")\n",
    "        .replace(\"CENTS\", \"\")\n",
    "        .replace(\",\", \"\")\n",
    "    )\n",
    "print(clean)"
   ]
  },
  {
   "cell_type": "code",
   "execution_count": 38,
   "metadata": {},
   "outputs": [
    {
     "data": {
      "text/plain": [
       "1011.18"
      ]
     },
     "execution_count": 38,
     "metadata": {},
     "output_type": "execute_result"
    }
   ],
   "source": [
    "#Solution: create your own function\n",
    "def clean_amount(amt):\n",
    "    if \"$\" in amt or \"dollar\" in amt.lower():\n",
    "        conversion = 1\n",
    "    elif \"cent\" in amt.lower():\n",
    "        conversion = 0.01\n",
    "    else:\n",
    "        raise ValueError(f\"Cannot determine unit for {amt}\")\n",
    "        \n",
    "    amt = amt.strip(\"$ \")\n",
    "    amt = amt.replace(\",\", \"\")\n",
    "    amt = amt.split(\" \")[0]\n",
    "    return float(amt) * conversion\n",
    "\n",
    "sum(clean_amount(a) for a in amounts)"
   ]
  },
  {
   "cell_type": "code",
   "execution_count": 45,
   "metadata": {},
   "outputs": [
    {
     "data": {
      "text/plain": [
       "1300.5"
      ]
     },
     "execution_count": 45,
     "metadata": {},
     "output_type": "execute_result"
    }
   ],
   "source": [
    "#Simpler version of above to understand how to create own function\n",
    "#For example, would use this to clean all data\n",
    "\n",
    "def clean_amt(amt):\n",
    "    amt = amt.strip(\"$  \")\n",
    "    amt = amt.replace(\",\", \"\")\n",
    "    amt = amt.split(\"  \")[0]\n",
    "    return float(amt)\n",
    "\n",
    "clean_amt(\"1,300.50\")"
   ]
  },
  {
   "cell_type": "code",
   "execution_count": 46,
   "metadata": {},
   "outputs": [],
   "source": [
    "import pandas as pd"
   ]
  },
  {
   "cell_type": "code",
   "execution_count": 49,
   "metadata": {},
   "outputs": [
    {
     "data": {
      "text/plain": [
       "0        $1,300.50\n",
       "1      100 dollars\n",
       "2    20 dolLLLLars\n",
       "dtype: object"
      ]
     },
     "execution_count": 49,
     "metadata": {},
     "output_type": "execute_result"
    }
   ],
   "source": [
    "series = pd.Series([ \"$1,300.50\", \"100 dollars\", \"20 dolLLLLars\"])\n",
    "series"
   ]
  },
  {
   "cell_type": "code",
   "execution_count": 50,
   "metadata": {},
   "outputs": [
    {
     "ename": "ValueError",
     "evalue": "could not convert string to float: '100 dollars'",
     "output_type": "error",
     "traceback": [
      "\u001b[0;31m---------------------------------------------------------------------------\u001b[0m",
      "\u001b[0;31mValueError\u001b[0m                                Traceback (most recent call last)",
      "Cell \u001b[0;32mIn[50], line 2\u001b[0m\n\u001b[1;32m      1\u001b[0m \u001b[39m#example of cleaning data using function above- refer to Jeremy's notebook\u001b[39;00m\n\u001b[0;32m----> 2\u001b[0m series\u001b[39m.\u001b[39;49mapply(clean_amt)\n",
      "File \u001b[0;32m~/.pyenv/versions/3.10.11/lib/python3.10/site-packages/pandas/core/series.py:4630\u001b[0m, in \u001b[0;36mSeries.apply\u001b[0;34m(self, func, convert_dtype, args, **kwargs)\u001b[0m\n\u001b[1;32m   4520\u001b[0m \u001b[39mdef\u001b[39;00m \u001b[39mapply\u001b[39m(\n\u001b[1;32m   4521\u001b[0m     \u001b[39mself\u001b[39m,\n\u001b[1;32m   4522\u001b[0m     func: AggFuncType,\n\u001b[0;32m   (...)\u001b[0m\n\u001b[1;32m   4525\u001b[0m     \u001b[39m*\u001b[39m\u001b[39m*\u001b[39mkwargs,\n\u001b[1;32m   4526\u001b[0m ) \u001b[39m-\u001b[39m\u001b[39m>\u001b[39m DataFrame \u001b[39m|\u001b[39m Series:\n\u001b[1;32m   4527\u001b[0m \u001b[39m    \u001b[39m\u001b[39m\"\"\"\u001b[39;00m\n\u001b[1;32m   4528\u001b[0m \u001b[39m    Invoke function on values of Series.\u001b[39;00m\n\u001b[1;32m   4529\u001b[0m \n\u001b[0;32m   (...)\u001b[0m\n\u001b[1;32m   4628\u001b[0m \u001b[39m    dtype: float64\u001b[39;00m\n\u001b[1;32m   4629\u001b[0m \u001b[39m    \"\"\"\u001b[39;00m\n\u001b[0;32m-> 4630\u001b[0m     \u001b[39mreturn\u001b[39;00m SeriesApply(\u001b[39mself\u001b[39;49m, func, convert_dtype, args, kwargs)\u001b[39m.\u001b[39;49mapply()\n",
      "File \u001b[0;32m~/.pyenv/versions/3.10.11/lib/python3.10/site-packages/pandas/core/apply.py:1025\u001b[0m, in \u001b[0;36mSeriesApply.apply\u001b[0;34m(self)\u001b[0m\n\u001b[1;32m   1022\u001b[0m     \u001b[39mreturn\u001b[39;00m \u001b[39mself\u001b[39m\u001b[39m.\u001b[39mapply_str()\n\u001b[1;32m   1024\u001b[0m \u001b[39m# self.f is Callable\u001b[39;00m\n\u001b[0;32m-> 1025\u001b[0m \u001b[39mreturn\u001b[39;00m \u001b[39mself\u001b[39;49m\u001b[39m.\u001b[39;49mapply_standard()\n",
      "File \u001b[0;32m~/.pyenv/versions/3.10.11/lib/python3.10/site-packages/pandas/core/apply.py:1076\u001b[0m, in \u001b[0;36mSeriesApply.apply_standard\u001b[0;34m(self)\u001b[0m\n\u001b[1;32m   1074\u001b[0m     \u001b[39melse\u001b[39;00m:\n\u001b[1;32m   1075\u001b[0m         values \u001b[39m=\u001b[39m obj\u001b[39m.\u001b[39mastype(\u001b[39mobject\u001b[39m)\u001b[39m.\u001b[39m_values\n\u001b[0;32m-> 1076\u001b[0m         mapped \u001b[39m=\u001b[39m lib\u001b[39m.\u001b[39;49mmap_infer(\n\u001b[1;32m   1077\u001b[0m             values,\n\u001b[1;32m   1078\u001b[0m             f,\n\u001b[1;32m   1079\u001b[0m             convert\u001b[39m=\u001b[39;49m\u001b[39mself\u001b[39;49m\u001b[39m.\u001b[39;49mconvert_dtype,\n\u001b[1;32m   1080\u001b[0m         )\n\u001b[1;32m   1082\u001b[0m \u001b[39mif\u001b[39;00m \u001b[39mlen\u001b[39m(mapped) \u001b[39mand\u001b[39;00m \u001b[39misinstance\u001b[39m(mapped[\u001b[39m0\u001b[39m], ABCSeries):\n\u001b[1;32m   1083\u001b[0m     \u001b[39m# GH#43986 Need to do list(mapped) in order to get treated as nested\u001b[39;00m\n\u001b[1;32m   1084\u001b[0m     \u001b[39m#  See also GH#25959 regarding EA support\u001b[39;00m\n\u001b[1;32m   1085\u001b[0m     \u001b[39mreturn\u001b[39;00m obj\u001b[39m.\u001b[39m_constructor_expanddim(\u001b[39mlist\u001b[39m(mapped), index\u001b[39m=\u001b[39mobj\u001b[39m.\u001b[39mindex)\n",
      "File \u001b[0;32m~/.pyenv/versions/3.10.11/lib/python3.10/site-packages/pandas/_libs/lib.pyx:2834\u001b[0m, in \u001b[0;36mpandas._libs.lib.map_infer\u001b[0;34m()\u001b[0m\n",
      "Cell \u001b[0;32mIn[45], line 8\u001b[0m, in \u001b[0;36mclean_amt\u001b[0;34m(amt)\u001b[0m\n\u001b[1;32m      6\u001b[0m amt \u001b[39m=\u001b[39m amt\u001b[39m.\u001b[39mreplace(\u001b[39m\"\u001b[39m\u001b[39m,\u001b[39m\u001b[39m\"\u001b[39m, \u001b[39m\"\u001b[39m\u001b[39m\"\u001b[39m)\n\u001b[1;32m      7\u001b[0m amt \u001b[39m=\u001b[39m amt\u001b[39m.\u001b[39msplit(\u001b[39m\"\u001b[39m\u001b[39m  \u001b[39m\u001b[39m\"\u001b[39m)[\u001b[39m0\u001b[39m]\n\u001b[0;32m----> 8\u001b[0m \u001b[39mreturn\u001b[39;00m \u001b[39mfloat\u001b[39;49m(amt)\n",
      "\u001b[0;31mValueError\u001b[0m: could not convert string to float: '100 dollars'"
     ]
    }
   ],
   "source": [
    "#example of cleaning data using function above- refer to Jeremy's notebook\n",
    "series.apply(clean_amt)"
   ]
  },
  {
   "cell_type": "code",
   "execution_count": 51,
   "metadata": {},
   "outputs": [
    {
     "data": {
      "text/plain": [
       "0    1,000.31   doLLaRs\n",
       "1              54 cents\n",
       "2              33 CENTS\n",
       "3                    10\n",
       "dtype: object"
      ]
     },
     "execution_count": 51,
     "metadata": {},
     "output_type": "execute_result"
    }
   ],
   "source": [
    "\n",
    "amounts = pd.Series([\n",
    "    \"   1,000.31   doLLaRs   \",\n",
    "    \"54 cents  \",\n",
    "    \"33 CENTS\",\n",
    "    \"$10\"\n",
    "])\n",
    "\n",
    "amounts.str.strip(\"$ \")"
   ]
  },
  {
   "cell_type": "code",
   "execution_count": 52,
   "metadata": {},
   "outputs": [
    {
     "data": {
      "text/plain": [
       "0         \n",
       "1         \n",
       "2    CENTS\n",
       "3      $10\n",
       "dtype: object"
      ]
     },
     "execution_count": 52,
     "metadata": {},
     "output_type": "execute_result"
    }
   ],
   "source": [
    "amounts.str.split(\" \").str.get(-1)"
   ]
  },
  {
   "cell_type": "code",
   "execution_count": 54,
   "metadata": {},
   "outputs": [
    {
     "data": {
      "text/plain": [
       "0    1000.31\n",
       "1         54\n",
       "2         33\n",
       "3         10\n",
       "dtype: object"
      ]
     },
     "execution_count": 54,
     "metadata": {},
     "output_type": "execute_result"
    }
   ],
   "source": [
    "# Pandas version: use '.get()' to identify specific item in list, equivalent to []\n",
    "# Combination of all cleaning\n",
    "# Parentheses on the outside allow you to do chaining\n",
    "(\n",
    "    amounts\n",
    "    .str.strip(\"$ \")\n",
    "    .str.replace(\",\", \"\")\n",
    "    .str.split()\n",
    "    .str.get(0)\n",
    ")"
   ]
  },
  {
   "cell_type": "code",
   "execution_count": 55,
   "metadata": {},
   "outputs": [
    {
     "data": {
      "text/plain": [
       "1"
      ]
     },
     "execution_count": 55,
     "metadata": {},
     "output_type": "execute_result"
    }
   ],
   "source": [
    "def get_conversion(amt):\n",
    "    if \"$\" in amt or \"dollar\" in amt.lower():\n",
    "        conversion = 1\n",
    "    elif \"cent\" in amt.lower():\n",
    "        conversion = 0.01\n",
    "    return conversion\n",
    "\n",
    "#test function\n",
    "get_conversion(\"1 dollar\")"
   ]
  },
  {
   "cell_type": "code",
   "execution_count": 56,
   "metadata": {},
   "outputs": [
    {
     "data": {
      "text/plain": [
       "0    1.00\n",
       "1    0.01\n",
       "2    0.01\n",
       "3    1.00\n",
       "dtype: float64"
      ]
     },
     "execution_count": 56,
     "metadata": {},
     "output_type": "execute_result"
    }
   ],
   "source": [
    "amounts.apply(get_conversion)"
   ]
  },
  {
   "cell_type": "code",
   "execution_count": 57,
   "metadata": {},
   "outputs": [
    {
     "data": {
      "text/html": [
       "<div>\n",
       "<style scoped>\n",
       "    .dataframe tbody tr th:only-of-type {\n",
       "        vertical-align: middle;\n",
       "    }\n",
       "\n",
       "    .dataframe tbody tr th {\n",
       "        vertical-align: top;\n",
       "    }\n",
       "\n",
       "    .dataframe thead th {\n",
       "        text-align: right;\n",
       "    }\n",
       "</style>\n",
       "<table border=\"1\" class=\"dataframe\">\n",
       "  <thead>\n",
       "    <tr style=\"text-align: right;\">\n",
       "      <th></th>\n",
       "      <th>raw</th>\n",
       "    </tr>\n",
       "  </thead>\n",
       "  <tbody>\n",
       "    <tr>\n",
       "      <th>0</th>\n",
       "      <td>1,000.31   doLLaRs</td>\n",
       "    </tr>\n",
       "    <tr>\n",
       "      <th>1</th>\n",
       "      <td>54 cents</td>\n",
       "    </tr>\n",
       "    <tr>\n",
       "      <th>2</th>\n",
       "      <td>33 CENTS</td>\n",
       "    </tr>\n",
       "    <tr>\n",
       "      <th>3</th>\n",
       "      <td>$10</td>\n",
       "    </tr>\n",
       "  </tbody>\n",
       "</table>\n",
       "</div>"
      ],
      "text/plain": [
       "                        raw\n",
       "0     1,000.31   doLLaRs   \n",
       "1                54 cents  \n",
       "2                  33 CENTS\n",
       "3                       $10"
      ]
     },
     "execution_count": 57,
     "metadata": {},
     "output_type": "execute_result"
    }
   ],
   "source": [
    "# Convert to dataframe\n",
    "\n",
    "amounts_df = pd.DataFrame({\n",
    "    \"raw\": amounts\n",
    "})\n",
    "\n",
    "amounts_df"
   ]
  },
  {
   "cell_type": "code",
   "execution_count": 58,
   "metadata": {},
   "outputs": [
    {
     "data": {
      "text/html": [
       "<div>\n",
       "<style scoped>\n",
       "    .dataframe tbody tr th:only-of-type {\n",
       "        vertical-align: middle;\n",
       "    }\n",
       "\n",
       "    .dataframe tbody tr th {\n",
       "        vertical-align: top;\n",
       "    }\n",
       "\n",
       "    .dataframe thead th {\n",
       "        text-align: right;\n",
       "    }\n",
       "</style>\n",
       "<table border=\"1\" class=\"dataframe\">\n",
       "  <thead>\n",
       "    <tr style=\"text-align: right;\">\n",
       "      <th></th>\n",
       "      <th>raw</th>\n",
       "      <th>quantity</th>\n",
       "    </tr>\n",
       "  </thead>\n",
       "  <tbody>\n",
       "    <tr>\n",
       "      <th>0</th>\n",
       "      <td>1,000.31   doLLaRs</td>\n",
       "      <td>1000.31</td>\n",
       "    </tr>\n",
       "    <tr>\n",
       "      <th>1</th>\n",
       "      <td>54 cents</td>\n",
       "      <td>54.00</td>\n",
       "    </tr>\n",
       "    <tr>\n",
       "      <th>2</th>\n",
       "      <td>33 CENTS</td>\n",
       "      <td>33.00</td>\n",
       "    </tr>\n",
       "    <tr>\n",
       "      <th>3</th>\n",
       "      <td>$10</td>\n",
       "      <td>10.00</td>\n",
       "    </tr>\n",
       "  </tbody>\n",
       "</table>\n",
       "</div>"
      ],
      "text/plain": [
       "                        raw  quantity\n",
       "0     1,000.31   doLLaRs      1000.31\n",
       "1                54 cents       54.00\n",
       "2                  33 CENTS     33.00\n",
       "3                       $10     10.00"
      ]
     },
     "execution_count": 58,
     "metadata": {},
     "output_type": "execute_result"
    }
   ],
   "source": [
    "#Adding cleaned data\n",
    "\n",
    "\n",
    "    .str.split()\n",
    "    .str.get(0)\n",
    "    .astype(float)\n",
    ")\n",
    "\n",
    "amounts_df"
   ]
  },
  {
   "cell_type": "code",
   "execution_count": 59,
   "metadata": {},
   "outputs": [],
   "source": [
    "amounts_df[\"conversion\"] = amounts_df[\"raw\"].apply(get_conversion)"
   ]
  },
  {
   "cell_type": "code",
   "execution_count": 60,
   "metadata": {},
   "outputs": [],
   "source": [
    "amounts_df[\"dollars\"] = amounts_df[\"quantity\"] * amounts_df[\"conversion\"]"
   ]
  },
  {
   "cell_type": "code",
   "execution_count": 61,
   "metadata": {},
   "outputs": [
    {
     "data": {
      "text/html": [
       "<div>\n",
       "<style scoped>\n",
       "    .dataframe tbody tr th:only-of-type {\n",
       "        vertical-align: middle;\n",
       "    }\n",
       "\n",
       "    .dataframe tbody tr th {\n",
       "        vertical-align: top;\n",
       "    }\n",
       "\n",
       "    .dataframe thead th {\n",
       "        text-align: right;\n",
       "    }\n",
       "</style>\n",
       "<table border=\"1\" class=\"dataframe\">\n",
       "  <thead>\n",
       "    <tr style=\"text-align: right;\">\n",
       "      <th></th>\n",
       "      <th>raw</th>\n",
       "      <th>quantity</th>\n",
       "      <th>conversion</th>\n",
       "      <th>dollars</th>\n",
       "    </tr>\n",
       "  </thead>\n",
       "  <tbody>\n",
       "    <tr>\n",
       "      <th>0</th>\n",
       "      <td>1,000.31   doLLaRs</td>\n",
       "      <td>1000.31</td>\n",
       "      <td>1.00</td>\n",
       "      <td>1000.31</td>\n",
       "    </tr>\n",
       "    <tr>\n",
       "      <th>1</th>\n",
       "      <td>54 cents</td>\n",
       "      <td>54.00</td>\n",
       "      <td>0.01</td>\n",
       "      <td>0.54</td>\n",
       "    </tr>\n",
       "    <tr>\n",
       "      <th>2</th>\n",
       "      <td>33 CENTS</td>\n",
       "      <td>33.00</td>\n",
       "      <td>0.01</td>\n",
       "      <td>0.33</td>\n",
       "    </tr>\n",
       "    <tr>\n",
       "      <th>3</th>\n",
       "      <td>$10</td>\n",
       "      <td>10.00</td>\n",
       "      <td>1.00</td>\n",
       "      <td>10.00</td>\n",
       "    </tr>\n",
       "  </tbody>\n",
       "</table>\n",
       "</div>"
      ],
      "text/plain": [
       "                        raw  quantity  conversion  dollars\n",
       "0     1,000.31   doLLaRs      1000.31        1.00  1000.31\n",
       "1                54 cents       54.00        0.01     0.54\n",
       "2                  33 CENTS     33.00        0.01     0.33\n",
       "3                       $10     10.00        1.00    10.00"
      ]
     },
     "execution_count": 61,
     "metadata": {},
     "output_type": "execute_result"
    }
   ],
   "source": [
    "amounts_df"
   ]
  },
  {
   "cell_type": "code",
   "execution_count": null,
   "metadata": {},
   "outputs": [],
   "source": [
    "# 'lambda' - unnamed fucntion. whatever the dataframe is, do x (whatever\n",
    "#the following code is)"
   ]
  },
  {
   "cell_type": "code",
   "execution_count": 62,
   "metadata": {},
   "outputs": [
    {
     "data": {
      "text/html": [
       "<div>\n",
       "<style scoped>\n",
       "    .dataframe tbody tr th:only-of-type {\n",
       "        vertical-align: middle;\n",
       "    }\n",
       "\n",
       "    .dataframe tbody tr th {\n",
       "        vertical-align: top;\n",
       "    }\n",
       "\n",
       "    .dataframe thead th {\n",
       "        text-align: right;\n",
       "    }\n",
       "</style>\n",
       "<table border=\"1\" class=\"dataframe\">\n",
       "  <thead>\n",
       "    <tr style=\"text-align: right;\">\n",
       "      <th></th>\n",
       "      <th>raw</th>\n",
       "      <th>quantity</th>\n",
       "      <th>conversion</th>\n",
       "      <th>dollars</th>\n",
       "    </tr>\n",
       "  </thead>\n",
       "  <tbody>\n",
       "    <tr>\n",
       "      <th>0</th>\n",
       "      <td>1,000.31   doLLaRs</td>\n",
       "      <td>1000.31</td>\n",
       "      <td>1.00</td>\n",
       "      <td>1000.31</td>\n",
       "    </tr>\n",
       "    <tr>\n",
       "      <th>1</th>\n",
       "      <td>54 cents</td>\n",
       "      <td>54.00</td>\n",
       "      <td>0.01</td>\n",
       "      <td>0.54</td>\n",
       "    </tr>\n",
       "    <tr>\n",
       "      <th>2</th>\n",
       "      <td>33 CENTS</td>\n",
       "      <td>33.00</td>\n",
       "      <td>0.01</td>\n",
       "      <td>0.33</td>\n",
       "    </tr>\n",
       "    <tr>\n",
       "      <th>3</th>\n",
       "      <td>$10</td>\n",
       "      <td>10.00</td>\n",
       "      <td>1.00</td>\n",
       "      <td>10.00</td>\n",
       "    </tr>\n",
       "  </tbody>\n",
       "</table>\n",
       "</div>"
      ],
      "text/plain": [
       "                        raw  quantity  conversion  dollars\n",
       "0     1,000.31   doLLaRs      1000.31        1.00  1000.31\n",
       "1                54 cents       54.00        0.01     0.54\n",
       "2                  33 CENTS     33.00        0.01     0.33\n",
       "3                       $10     10.00        1.00    10.00"
      ]
     },
     "execution_count": 62,
     "metadata": {},
     "output_type": "execute_result"
    }
   ],
   "source": [
    "#Jeremy's style [advanced]\n",
    "\n",
    "(\n",
    "    pd.DataFrame({ \"raw\": amounts })\n",
    "    .assign(\n",
    "        quantity = lambda df: (\n",
    "            df[\"raw\"]\n",
    "            .str.strip(\"$ \")\n",
    "            .str.replace(\",\", \"\")\n",
    "            .str.split()\n",
    "            .str.get(0)\n",
    "            .astype(float)\n",
    "        ),\n",
    "        conversion = lambda df: df[\"raw\"].apply(get_conversion),\n",
    "        dollars = lambda df: df[\"quantity\"] * df[\"conversion\"],\n",
    "    )\n",
    ")"
   ]
  },
  {
   "cell_type": "code",
   "execution_count": null,
   "metadata": {},
   "outputs": [],
   "source": []
  }
 ],
 "metadata": {
  "kernelspec": {
   "display_name": "Python 3",
   "language": "python",
   "name": "python3"
  },
  "language_info": {
   "codemirror_mode": {
    "name": "ipython",
    "version": 3
   },
   "file_extension": ".py",
   "mimetype": "text/x-python",
   "name": "python",
   "nbconvert_exporter": "python",
   "pygments_lexer": "ipython3",
   "version": "3.10.11"
  },
  "orig_nbformat": 4
 },
 "nbformat": 4,
 "nbformat_minor": 2
}
