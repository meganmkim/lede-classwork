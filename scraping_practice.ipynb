{
 "cells": [
  {
   "attachments": {},
   "cell_type": "markdown",
   "metadata": {},
   "source": [
    "## Web Scraping Practice\n",
    "From:\n",
    "https://flowingdata.com/ "
   ]
  },
  {
   "cell_type": "code",
   "execution_count": 1,
   "metadata": {},
   "outputs": [],
   "source": [
    "import requests\n",
    "from bs4 import BeautifulSoup"
   ]
  },
  {
   "cell_type": "code",
   "execution_count": 6,
   "metadata": {},
   "outputs": [
    {
     "data": {
      "text/plain": [
       "bs4.BeautifulSoup"
      ]
     },
     "execution_count": 6,
     "metadata": {},
     "output_type": "execute_result"
    }
   ],
   "source": [
    "url = requests.get(\"https://flowingdata.com/\").text\n",
    "\n",
    "soup = BeautifulSoup(url)\n",
    "type(soup)"
   ]
  },
  {
   "cell_type": "code",
   "execution_count": 13,
   "metadata": {},
   "outputs": [
    {
     "name": "stdout",
     "output_type": "stream",
     "text": [
      ".archive-post                  matches 20 elements\n",
      "#recent-posts > ul > li        matches 20 elements\n",
      "#recent-posts .archive-post    matches 20 elements\n",
      "#recent-posts li.archive-post  matches 20 elements\n"
     ]
    }
   ],
   "source": [
    "#Try to collect posts on site\n",
    "\n",
    "selectors_to_try = [\n",
    "    \".archive-post\",\n",
    "    \"#recent-posts > ul > li\",\n",
    "    \"#recent-posts .archive-post\",\n",
    "    \"#recent-posts li.archive-post\"\n",
    "]\n",
    "\n",
    "for sel in selectors_to_try:\n",
    "    num_elements = len(soup.select(sel))\n",
    "    print(f\"{sel: <30} matches {num_elements} elements\")"
   ]
  },
  {
   "cell_type": "code",
   "execution_count": 16,
   "metadata": {},
   "outputs": [
    {
     "name": "stdout",
     "output_type": "stream",
     "text": [
      "Astericking NBA champions\n",
      "Noise and health\n",
      "Password game requires more ridiculous rules as you play\n",
      "A year of flight paths, for someone with an unlimited pass\n",
      "Map of electric grid required for cleaner energy\n",
      "Crochet lake map\n",
      "Chart Practice: Branch Out Beyond the Visual Bits\n",
      "An interactive guide to color and contrast\n",
      "Switching from Python to R\n",
      "Friend simulation system, with ChatGPT\n",
      "To make electric vehicle batteries, China must be involved\n",
      "Where people are moving in the U.S.\n",
      "Chart Practice: Changing the Audience\n",
      "Life timeline in a spreadsheet\n",
      "Objectiveness distributions\n",
      "Using gaps in location data to track illegal fishing\n",
      "Fake location signals from oil tankers avoiding oversight\n",
      "Generative AI exaggerates stereotypes\n",
      "Smoke from Canada wildfires over the U.S.\n",
      "Artificial Data Visualization\n"
     ]
    }
   ],
   "source": [
    "# Get headline for each post\n",
    "\n",
    "for post_el in soup.select(\".archive-post\"):\n",
    "    hed = post_el.select(\"h1 a\")[0]\n",
    "    print(hed.text.strip())\n"
   ]
  },
  {
   "cell_type": "code",
   "execution_count": 20,
   "metadata": {},
   "outputs": [
    {
     "data": {
      "text/plain": [
       "<li class=\"archive-post\">\n",
       "<div>\n",
       "<div class=\"nine columns offset-by-two alpha\">\n",
       "<h1>\n",
       "<a href=\"https://flowingdata.com/2023/06/29/astericking-nba-champions/\" rel=\"bookmark\">\n",
       "Astericking NBA champions </a>\n",
       "</h1>\n",
       "</div>\n",
       "<div class=\"clr\"></div>\n",
       "<div class=\"byinfo two columns alpha\">\n",
       "<a href=\"https://flowingdata.com/2023/06/29/astericking-nba-champions/\">June 29, 2023</a>\n",
       "<div style=\"margin-top:1.5rem\">\n",
       "<h3 class=\"toplevel\">Topic</h3>\n",
       "<strong><a href=\"https://flowingdata.com/category/statistics/\" rel=\"category tag\">Statistics</a></strong>  /  <a href=\"https://flowingdata.com/tag/basketball/\" rel=\"tag\">basketball</a>, <a href=\"https://flowingdata.com/tag/pudding/\" rel=\"tag\">Pudding</a>, <a href=\"https://flowingdata.com/tag/russell-samora/\" rel=\"tag\">Russell Samora</a> </div>\n",
       "</div>\n",
       "<div class=\"nine columns omega\" id=\"entry-content-wrapper\">\n",
       "<div class=\"entry\">\n",
       "<div class=\"archive-featured-image\">\n",
       "<a href=\"https://flowingdata.com/2023/06/29/astericking-nba-champions/\">\n",
       "<img alt=\"\" class=\"attachment-medium size-medium wp-post-image\" data-attachment-id=\"71595\" data-comments-opened=\"0\" data-image-caption=\"\" data-image-description=\"\" data-image-meta='{\"aperture\":\"0\",\"credit\":\"\",\"camera\":\"\",\"caption\":\"\",\"created_timestamp\":\"0\",\"copyright\":\"\",\"focal_length\":\"0\",\"iso\":\"0\",\"shutter_speed\":\"0\",\"title\":\"\",\"orientation\":\"0\"}' data-image-title=\"astericking nba champions\" data-large-file=\"https://flowingdata.com/wp-content/uploads/2023/06/astericking-nba-champions-1090x777.png\" data-medium-file=\"https://flowingdata.com/wp-content/uploads/2023/06/astericking-nba-champions-750x535.png\" data-orig-file=\"https://flowingdata.com/wp-content/uploads/2023/06/astericking-nba-champions.png\" data-orig-size=\"2446,1744\" data-permalink=\"https://flowingdata.com/2023/06/29/astericking-nba-champions/astericking-nba-champions/\" decoding=\"async\" height=\"535\" loading=\"lazy\" sizes=\"(max-width: 750px) 100vw, 750px\" src=\"https://flowingdata.com/wp-content/uploads/2023/06/astericking-nba-champions-750x535.png\" srcset=\"https://flowingdata.com/wp-content/uploads/2023/06/astericking-nba-champions-750x535.png 750w, https://flowingdata.com/wp-content/uploads/2023/06/astericking-nba-champions-1090x777.png 1090w, https://flowingdata.com/wp-content/uploads/2023/06/astericking-nba-champions-210x150.png 210w, https://flowingdata.com/wp-content/uploads/2023/06/astericking-nba-champions-768x548.png 768w, https://flowingdata.com/wp-content/uploads/2023/06/astericking-nba-champions-1536x1095.png 1536w, https://flowingdata.com/wp-content/uploads/2023/06/astericking-nba-champions-2048x1460.png 2048w\" width=\"750\"/> </a>\n",
       "</div>\n",
       "<p>It seems to have grown more common for basketball fans to complain that whoever wins the championship didn’t have to go through a legitimate challenge. If so and so wasn’t injured on the opposing team, so the naysayers claim, then such and such team wouldn’t have won. For The Pudding, Russell Samora made it easier to whine, <a href=\"https://pudding.cool/2023/06/asterisks/\">based on an aptly named metric called CRUTCH</a>. </p>\n",
       "</div>\n",
       "</div>\n",
       "<div class=\"clr\"></div>\n",
       "</div>\n",
       "<div class=\"clr\"></div>\n",
       "</li>"
      ]
     },
     "execution_count": 20,
     "metadata": {},
     "output_type": "execute_result"
    }
   ],
   "source": [
    "first_post = soup.select(\".archive-post\")[0]\n",
    "first_post"
   ]
  },
  {
   "cell_type": "code",
   "execution_count": 21,
   "metadata": {},
   "outputs": [
    {
     "data": {
      "text/plain": [
       "'June 29, 2023'"
      ]
     },
     "execution_count": 21,
     "metadata": {},
     "output_type": "execute_result"
    }
   ],
   "source": [
    "first_post.select(\".byinfo a\")[0].text"
   ]
  },
  {
   "cell_type": "code",
   "execution_count": 22,
   "metadata": {},
   "outputs": [
    {
     "data": {
      "text/plain": [
       "'Statistics'"
      ]
     },
     "execution_count": 22,
     "metadata": {},
     "output_type": "execute_result"
    }
   ],
   "source": [
    "#asking to pull an a -tag that's also within a strong tag in .byinfo \n",
    "first_post.select(\".byinfo strong a\")[0].text"
   ]
  },
  {
   "cell_type": "code",
   "execution_count": 25,
   "metadata": {},
   "outputs": [
    {
     "data": {
      "text/html": [
       "<div>\n",
       "<style scoped>\n",
       "    .dataframe tbody tr th:only-of-type {\n",
       "        vertical-align: middle;\n",
       "    }\n",
       "\n",
       "    .dataframe tbody tr th {\n",
       "        vertical-align: top;\n",
       "    }\n",
       "\n",
       "    .dataframe thead th {\n",
       "        text-align: right;\n",
       "    }\n",
       "</style>\n",
       "<table border=\"1\" class=\"dataframe\">\n",
       "  <thead>\n",
       "    <tr style=\"text-align: right;\">\n",
       "      <th></th>\n",
       "      <th>hed</th>\n",
       "      <th>date</th>\n",
       "      <th>topic</th>\n",
       "    </tr>\n",
       "  </thead>\n",
       "  <tbody>\n",
       "    <tr>\n",
       "      <th>0</th>\n",
       "      <td>Astericking NBA champions</td>\n",
       "      <td>June 29, 2023</td>\n",
       "      <td>Statistics</td>\n",
       "    </tr>\n",
       "    <tr>\n",
       "      <th>1</th>\n",
       "      <td>Noise and health</td>\n",
       "      <td>June 28, 2023</td>\n",
       "      <td>Infographics</td>\n",
       "    </tr>\n",
       "    <tr>\n",
       "      <th>2</th>\n",
       "      <td>Password game requires more ridiculous rules a...</td>\n",
       "      <td>June 27, 2023</td>\n",
       "      <td>Infographics</td>\n",
       "    </tr>\n",
       "    <tr>\n",
       "      <th>3</th>\n",
       "      <td>A year of flight paths, for someone with an un...</td>\n",
       "      <td>June 27, 2023</td>\n",
       "      <td>Maps</td>\n",
       "    </tr>\n",
       "    <tr>\n",
       "      <th>4</th>\n",
       "      <td>Map of electric grid required for cleaner energy</td>\n",
       "      <td>June 26, 2023</td>\n",
       "      <td>Maps</td>\n",
       "    </tr>\n",
       "    <tr>\n",
       "      <th>5</th>\n",
       "      <td>Crochet lake map</td>\n",
       "      <td>June 23, 2023</td>\n",
       "      <td>Maps</td>\n",
       "    </tr>\n",
       "    <tr>\n",
       "      <th>6</th>\n",
       "      <td>Chart Practice: Branch Out Beyond the Visual Bits</td>\n",
       "      <td>June 22, 2023</td>\n",
       "      <td>The Process</td>\n",
       "    </tr>\n",
       "    <tr>\n",
       "      <th>7</th>\n",
       "      <td>An interactive guide to color and contrast</td>\n",
       "      <td>June 22, 2023</td>\n",
       "      <td>Design</td>\n",
       "    </tr>\n",
       "    <tr>\n",
       "      <th>8</th>\n",
       "      <td>Switching from Python to R</td>\n",
       "      <td>June 21, 2023</td>\n",
       "      <td>Coding</td>\n",
       "    </tr>\n",
       "    <tr>\n",
       "      <th>9</th>\n",
       "      <td>Friend simulation system, with ChatGPT</td>\n",
       "      <td>June 20, 2023</td>\n",
       "      <td>Network Visualization</td>\n",
       "    </tr>\n",
       "    <tr>\n",
       "      <th>10</th>\n",
       "      <td>To make electric vehicle batteries, China must...</td>\n",
       "      <td>June 19, 2023</td>\n",
       "      <td>Infographics</td>\n",
       "    </tr>\n",
       "    <tr>\n",
       "      <th>11</th>\n",
       "      <td>Where people are moving in the U.S.</td>\n",
       "      <td>June 16, 2023</td>\n",
       "      <td>Statistical Visualization</td>\n",
       "    </tr>\n",
       "    <tr>\n",
       "      <th>12</th>\n",
       "      <td>Chart Practice: Changing the Audience</td>\n",
       "      <td>June 15, 2023</td>\n",
       "      <td>The Process</td>\n",
       "    </tr>\n",
       "    <tr>\n",
       "      <th>13</th>\n",
       "      <td>Life timeline in a spreadsheet</td>\n",
       "      <td>June 15, 2023</td>\n",
       "      <td>Self-surveillance</td>\n",
       "    </tr>\n",
       "    <tr>\n",
       "      <th>14</th>\n",
       "      <td>Objectiveness distributions</td>\n",
       "      <td>June 14, 2023</td>\n",
       "      <td>Infographics</td>\n",
       "    </tr>\n",
       "    <tr>\n",
       "      <th>15</th>\n",
       "      <td>Using gaps in location data to track illegal f...</td>\n",
       "      <td>June 13, 2023</td>\n",
       "      <td>Maps</td>\n",
       "    </tr>\n",
       "    <tr>\n",
       "      <th>16</th>\n",
       "      <td>Fake location signals from oil tankers avoidin...</td>\n",
       "      <td>June 13, 2023</td>\n",
       "      <td>Maps</td>\n",
       "    </tr>\n",
       "    <tr>\n",
       "      <th>17</th>\n",
       "      <td>Generative AI exaggerates stereotypes</td>\n",
       "      <td>June 12, 2023</td>\n",
       "      <td>Infographics</td>\n",
       "    </tr>\n",
       "    <tr>\n",
       "      <th>18</th>\n",
       "      <td>Smoke from Canada wildfires over the U.S.</td>\n",
       "      <td>June 9, 2023</td>\n",
       "      <td>Maps</td>\n",
       "    </tr>\n",
       "    <tr>\n",
       "      <th>19</th>\n",
       "      <td>Artificial Data Visualization</td>\n",
       "      <td>June 8, 2023</td>\n",
       "      <td>The Process</td>\n",
       "    </tr>\n",
       "  </tbody>\n",
       "</table>\n",
       "</div>"
      ],
      "text/plain": [
       "                                                  hed           date  \\\n",
       "0                           Astericking NBA champions  June 29, 2023   \n",
       "1                                    Noise and health  June 28, 2023   \n",
       "2   Password game requires more ridiculous rules a...  June 27, 2023   \n",
       "3   A year of flight paths, for someone with an un...  June 27, 2023   \n",
       "4    Map of electric grid required for cleaner energy  June 26, 2023   \n",
       "5                                    Crochet lake map  June 23, 2023   \n",
       "6   Chart Practice: Branch Out Beyond the Visual Bits  June 22, 2023   \n",
       "7          An interactive guide to color and contrast  June 22, 2023   \n",
       "8                          Switching from Python to R  June 21, 2023   \n",
       "9              Friend simulation system, with ChatGPT  June 20, 2023   \n",
       "10  To make electric vehicle batteries, China must...  June 19, 2023   \n",
       "11                Where people are moving in the U.S.  June 16, 2023   \n",
       "12              Chart Practice: Changing the Audience  June 15, 2023   \n",
       "13                     Life timeline in a spreadsheet  June 15, 2023   \n",
       "14                        Objectiveness distributions  June 14, 2023   \n",
       "15  Using gaps in location data to track illegal f...  June 13, 2023   \n",
       "16  Fake location signals from oil tankers avoidin...  June 13, 2023   \n",
       "17              Generative AI exaggerates stereotypes  June 12, 2023   \n",
       "18          Smoke from Canada wildfires over the U.S.   June 9, 2023   \n",
       "19                      Artificial Data Visualization   June 8, 2023   \n",
       "\n",
       "                        topic  \n",
       "0                  Statistics  \n",
       "1                Infographics  \n",
       "2                Infographics  \n",
       "3                        Maps  \n",
       "4                        Maps  \n",
       "5                        Maps  \n",
       "6                 The Process  \n",
       "7                      Design  \n",
       "8                      Coding  \n",
       "9       Network Visualization  \n",
       "10               Infographics  \n",
       "11  Statistical Visualization  \n",
       "12                The Process  \n",
       "13          Self-surveillance  \n",
       "14               Infographics  \n",
       "15                       Maps  \n",
       "16                       Maps  \n",
       "17               Infographics  \n",
       "18                       Maps  \n",
       "19                The Process  "
      ]
     },
     "execution_count": 25,
     "metadata": {},
     "output_type": "execute_result"
    }
   ],
   "source": [
    "import pandas as pd\n",
    "\n",
    "#put list into dataframe\n",
    "#note that information in the dictionary provides format that will be the output (in this\n",
    "# case a dictionary), the brackets create a list, and the latter half requires one to go\n",
    "# through and do a for loop\n",
    "fd_posts = pd.DataFrame([{\n",
    "    \"hed\": post_el.select(\"h1 a\")[0].text.strip(),\n",
    "    \"date\": post_el.select(\".byinfo a\")[0].text,\n",
    "    \"topic\": post_el.select(\".byinfo strong a\")[0].text,\n",
    "} for post_el in soup.select(\".archive-post\") ])\n",
    "\n",
    "fd_posts"
   ]
  },
  {
   "attachments": {},
   "cell_type": "markdown",
   "metadata": {},
   "source": [
    "# Scraping, Part 6: Table Talk\n",
    "* From HTML table to data table \n",
    "\n",
    "Structure of tables (double click in to see code)\n",
    "<table>\n",
    "    <thead>\n",
    "        <tr>\n",
    "            <th>\n",
    "    <tbody>\n",
    "        <tr>\n",
    "            <td>\n",
    "\n",
    "tr = tablerow\n",
    "td = standard table cells"
   ]
  },
  {
   "cell_type": "code",
   "execution_count": 26,
   "metadata": {},
   "outputs": [],
   "source": [
    "watermelon_url = \"http://www.bigpumpkins.com/WeighoffResultsGPC.aspx?c=W&y=2022\"\n",
    "watermelon_html = requests.get(watermelon_url).text"
   ]
  },
  {
   "cell_type": "code",
   "execution_count": 27,
   "metadata": {},
   "outputs": [],
   "source": [
    "watermelon_soup = BeautifulSoup(watermelon_html)"
   ]
  },
  {
   "cell_type": "code",
   "execution_count": 31,
   "metadata": {},
   "outputs": [
    {
     "data": {
      "text/plain": [
       "'PlaceWeight (lbs)Grower NameCityState/ProvCountryGPC SiteSeed (Mother)Pollinator (Father)OTTEst. WeightPct. Chart1325.40Mudd, FramkVine GroveKentuckyUnited StatesAllardt Pumpkin Festival305 Mudd 16305 Mudd223.0303.007.02309.00McCaslin, NickHawesvilleKentuckyUnited StatesChillicothe Halloween Festival301.5 McCaslinSelf224.0307.001.03306.00Vial, AndrewLibertyNorth CarolinaUnited StatesNC State Fair GPC Weigh-Off341.5 Vial 19330.5 Vial B 19223.0301.002.04302.50Mudd, FrankVine GroveKentuckyUnited St'"
      ]
     },
     "execution_count": 31,
     "metadata": {},
     "output_type": "execute_result"
    }
   ],
   "source": [
    "tables = watermelon_soup.select(\"table.ReportResults\")\n",
    "len(tables)\n",
    "\n",
    "watermelon_table = tables[0]\n",
    "watermelon_table.text[:500]"
   ]
  },
  {
   "cell_type": "code",
   "execution_count": 32,
   "metadata": {},
   "outputs": [
    {
     "data": {
      "text/plain": [
       "300"
      ]
     },
     "execution_count": 32,
     "metadata": {},
     "output_type": "execute_result"
    }
   ],
   "source": [
    "row_els = watermelon_table.select(\"tbody tr\")\n",
    "len(row_els)"
   ]
  },
  {
   "cell_type": "code",
   "execution_count": 33,
   "metadata": {},
   "outputs": [
    {
     "data": {
      "text/plain": [
       "<tr><td align=\"right\">1</td><td align=\"right\">325.40</td><td>Mudd, Framk</td><td>Vine Grove</td><td>Kentucky</td><td>United States</td><td>Allardt Pumpkin Festival</td><td>305 Mudd 16</td><td>305 Mudd</td><td align=\"right\">223.0</td><td align=\"right\">303.00</td><td align=\"right\">7.0</td></tr>"
      ]
     },
     "execution_count": 33,
     "metadata": {},
     "output_type": "execute_result"
    }
   ],
   "source": [
    "row_els[0]"
   ]
  },
  {
   "cell_type": "code",
   "execution_count": 34,
   "metadata": {},
   "outputs": [
    {
     "data": {
      "text/plain": [
       "['1',\n",
       " '325.40',\n",
       " 'Mudd, Framk',\n",
       " 'Vine Grove',\n",
       " 'Kentucky',\n",
       " 'United States',\n",
       " 'Allardt Pumpkin Festival',\n",
       " '305 Mudd 16',\n",
       " '305 Mudd',\n",
       " '223.0',\n",
       " '303.00',\n",
       " '7.0']"
      ]
     },
     "execution_count": 34,
     "metadata": {},
     "output_type": "execute_result"
    }
   ],
   "source": [
    "#First way- less ideal but more familiar\n",
    "row_cells = []\n",
    "for cell in row_els[0].select(\"td\"):\n",
    "    row_cells.append(cell.text)\n",
    "row_cells"
   ]
  },
  {
   "cell_type": "code",
   "execution_count": 35,
   "metadata": {},
   "outputs": [
    {
     "data": {
      "text/plain": [
       "['1',\n",
       " '325.40',\n",
       " 'Mudd, Framk',\n",
       " 'Vine Grove',\n",
       " 'Kentucky',\n",
       " 'United States',\n",
       " 'Allardt Pumpkin Festival',\n",
       " '305 Mudd 16',\n",
       " '305 Mudd',\n",
       " '223.0',\n",
       " '303.00',\n",
       " '7.0']"
      ]
     },
     "execution_count": 35,
     "metadata": {},
     "output_type": "execute_result"
    }
   ],
   "source": [
    "#Second way\n",
    "[ cell.text for cell in row_els[0].select(\"td\") ]"
   ]
  },
  {
   "cell_type": "code",
   "execution_count": 36,
   "metadata": {},
   "outputs": [
    {
     "data": {
      "text/plain": [
       "[['1',\n",
       "  '325.40',\n",
       "  'Mudd, Framk',\n",
       "  'Vine Grove',\n",
       "  'Kentucky',\n",
       "  'United States',\n",
       "  'Allardt Pumpkin Festival',\n",
       "  '305 Mudd 16',\n",
       "  '305 Mudd',\n",
       "  '223.0',\n",
       "  '303.00',\n",
       "  '7.0'],\n",
       " ['2',\n",
       "  '309.00',\n",
       "  'McCaslin, Nick',\n",
       "  'Hawesville',\n",
       "  'Kentucky',\n",
       "  'United States',\n",
       "  'Chillicothe Halloween Festival',\n",
       "  '301.5 McCaslin',\n",
       "  'Self',\n",
       "  '224.0',\n",
       "  '307.00',\n",
       "  '1.0'],\n",
       " ['3',\n",
       "  '306.00',\n",
       "  'Vial, Andrew',\n",
       "  'Liberty',\n",
       "  'North Carolina',\n",
       "  'United States',\n",
       "  'NC State Fair GPC Weigh-Off',\n",
       "  '341.5 Vial 19',\n",
       "  '330.5 Vial B 19',\n",
       "  '223.0',\n",
       "  '301.00',\n",
       "  '2.0']]"
      ]
     },
     "execution_count": 36,
     "metadata": {},
     "output_type": "execute_result"
    }
   ],
   "source": [
    "#How to collect all data - one way\n",
    "watermelon_entries = [\n",
    "    [ cell.text for cell in row.select(\"td\") ]\n",
    "for row in row_els ]\n",
    "\n",
    "watermelon_entries[:3]"
   ]
  },
  {
   "cell_type": "code",
   "execution_count": 37,
   "metadata": {},
   "outputs": [
    {
     "data": {
      "text/plain": [
       "[['1',\n",
       "  '325.40',\n",
       "  'Mudd, Framk',\n",
       "  'Vine Grove',\n",
       "  'Kentucky',\n",
       "  'United States',\n",
       "  'Allardt Pumpkin Festival',\n",
       "  '305 Mudd 16',\n",
       "  '305 Mudd',\n",
       "  '223.0',\n",
       "  '303.00',\n",
       "  '7.0'],\n",
       " ['2',\n",
       "  '309.00',\n",
       "  'McCaslin, Nick',\n",
       "  'Hawesville',\n",
       "  'Kentucky',\n",
       "  'United States',\n",
       "  'Chillicothe Halloween Festival',\n",
       "  '301.5 McCaslin',\n",
       "  'Self',\n",
       "  '224.0',\n",
       "  '307.00',\n",
       "  '1.0'],\n",
       " ['3',\n",
       "  '306.00',\n",
       "  'Vial, Andrew',\n",
       "  'Liberty',\n",
       "  'North Carolina',\n",
       "  'United States',\n",
       "  'NC State Fair GPC Weigh-Off',\n",
       "  '341.5 Vial 19',\n",
       "  '330.5 Vial B 19',\n",
       "  '223.0',\n",
       "  '301.00',\n",
       "  '2.0']]"
      ]
     },
     "execution_count": 37,
     "metadata": {},
     "output_type": "execute_result"
    }
   ],
   "source": [
    "#How to collect all data - second way using for loop\n",
    "watermelon_entries = []\n",
    "for row in row_els:\n",
    "    row_cells = []\n",
    "    for cell in row.select(\"td\"):\n",
    "        row_cells.append(cell.text)\n",
    "    watermelon_entries.append(row_cells)\n",
    "\n",
    "watermelon_entries[:3]"
   ]
  },
  {
   "cell_type": "code",
   "execution_count": 38,
   "metadata": {},
   "outputs": [
    {
     "data": {
      "text/plain": [
       "['Place',\n",
       " 'Weight (lbs)',\n",
       " 'Grower Name',\n",
       " 'City',\n",
       " 'State/Prov',\n",
       " 'Country',\n",
       " 'GPC Site',\n",
       " 'Seed (Mother)',\n",
       " 'Pollinator (Father)',\n",
       " 'OTT',\n",
       " 'Est. Weight',\n",
       " 'Pct. Chart']"
      ]
     },
     "execution_count": 38,
     "metadata": {},
     "output_type": "execute_result"
    }
   ],
   "source": [
    "#import as pandas data frame\n",
    "header_cells = watermelon_table.select(\"thead th\")\n",
    "watermelon_headers = [ header.text for header in header_cells ]\n",
    "watermelon_headers"
   ]
  },
  {
   "cell_type": "code",
   "execution_count": 39,
   "metadata": {},
   "outputs": [
    {
     "data": {
      "text/html": [
       "<div>\n",
       "<style scoped>\n",
       "    .dataframe tbody tr th:only-of-type {\n",
       "        vertical-align: middle;\n",
       "    }\n",
       "\n",
       "    .dataframe tbody tr th {\n",
       "        vertical-align: top;\n",
       "    }\n",
       "\n",
       "    .dataframe thead th {\n",
       "        text-align: right;\n",
       "    }\n",
       "</style>\n",
       "<table border=\"1\" class=\"dataframe\">\n",
       "  <thead>\n",
       "    <tr style=\"text-align: right;\">\n",
       "      <th></th>\n",
       "      <th>Place</th>\n",
       "      <th>Weight (lbs)</th>\n",
       "      <th>Grower Name</th>\n",
       "      <th>City</th>\n",
       "      <th>State/Prov</th>\n",
       "      <th>Country</th>\n",
       "      <th>GPC Site</th>\n",
       "      <th>Seed (Mother)</th>\n",
       "      <th>Pollinator (Father)</th>\n",
       "      <th>OTT</th>\n",
       "      <th>Est. Weight</th>\n",
       "      <th>Pct. Chart</th>\n",
       "    </tr>\n",
       "  </thead>\n",
       "  <tbody>\n",
       "    <tr>\n",
       "      <th>0</th>\n",
       "      <td>1</td>\n",
       "      <td>325.40</td>\n",
       "      <td>Mudd, Framk</td>\n",
       "      <td>Vine Grove</td>\n",
       "      <td>Kentucky</td>\n",
       "      <td>United States</td>\n",
       "      <td>Allardt Pumpkin Festival</td>\n",
       "      <td>305 Mudd 16</td>\n",
       "      <td>305 Mudd</td>\n",
       "      <td>223.0</td>\n",
       "      <td>303.00</td>\n",
       "      <td>7.0</td>\n",
       "    </tr>\n",
       "    <tr>\n",
       "      <th>1</th>\n",
       "      <td>2</td>\n",
       "      <td>309.00</td>\n",
       "      <td>McCaslin, Nick</td>\n",
       "      <td>Hawesville</td>\n",
       "      <td>Kentucky</td>\n",
       "      <td>United States</td>\n",
       "      <td>Chillicothe Halloween Festival</td>\n",
       "      <td>301.5 McCaslin</td>\n",
       "      <td>Self</td>\n",
       "      <td>224.0</td>\n",
       "      <td>307.00</td>\n",
       "      <td>1.0</td>\n",
       "    </tr>\n",
       "    <tr>\n",
       "      <th>2</th>\n",
       "      <td>3</td>\n",
       "      <td>306.00</td>\n",
       "      <td>Vial, Andrew</td>\n",
       "      <td>Liberty</td>\n",
       "      <td>North Carolina</td>\n",
       "      <td>United States</td>\n",
       "      <td>NC State Fair GPC Weigh-Off</td>\n",
       "      <td>341.5 Vial 19</td>\n",
       "      <td>330.5 Vial B 19</td>\n",
       "      <td>223.0</td>\n",
       "      <td>301.00</td>\n",
       "      <td>2.0</td>\n",
       "    </tr>\n",
       "    <tr>\n",
       "      <th>3</th>\n",
       "      <td>4</td>\n",
       "      <td>302.50</td>\n",
       "      <td>Mudd, Frank</td>\n",
       "      <td>Vine Grove</td>\n",
       "      <td>Kentucky</td>\n",
       "      <td>United States</td>\n",
       "      <td>Roberts Family Farms</td>\n",
       "      <td>305 Mudd 16</td>\n",
       "      <td>Self</td>\n",
       "      <td>221.0</td>\n",
       "      <td>297.00</td>\n",
       "      <td>2.0</td>\n",
       "    </tr>\n",
       "    <tr>\n",
       "      <th>4</th>\n",
       "      <td>5</td>\n",
       "      <td>291.50</td>\n",
       "      <td>VanBeck, Patrick</td>\n",
       "      <td>Willlow Spring</td>\n",
       "      <td>North Carolina</td>\n",
       "      <td>United States</td>\n",
       "      <td>NC State Fair GPC Weigh-Off</td>\n",
       "      <td>Carolina Cross Burpee</td>\n",
       "      <td>305 Vial DMG</td>\n",
       "      <td>221.0</td>\n",
       "      <td>297.00</td>\n",
       "      <td>-2.0</td>\n",
       "    </tr>\n",
       "  </tbody>\n",
       "</table>\n",
       "</div>"
      ],
      "text/plain": [
       "  Place Weight (lbs)       Grower Name            City      State/Prov  \\\n",
       "0     1       325.40       Mudd, Framk      Vine Grove        Kentucky   \n",
       "1     2       309.00    McCaslin, Nick      Hawesville        Kentucky   \n",
       "2     3       306.00      Vial, Andrew         Liberty  North Carolina   \n",
       "3     4       302.50       Mudd, Frank      Vine Grove        Kentucky   \n",
       "4     5       291.50  VanBeck, Patrick  Willlow Spring  North Carolina   \n",
       "\n",
       "         Country                        GPC Site          Seed (Mother)  \\\n",
       "0  United States        Allardt Pumpkin Festival            305 Mudd 16   \n",
       "1  United States  Chillicothe Halloween Festival         301.5 McCaslin   \n",
       "2  United States     NC State Fair GPC Weigh-Off          341.5 Vial 19   \n",
       "3  United States            Roberts Family Farms            305 Mudd 16   \n",
       "4  United States     NC State Fair GPC Weigh-Off  Carolina Cross Burpee   \n",
       "\n",
       "  Pollinator (Father)    OTT Est. Weight Pct. Chart  \n",
       "0            305 Mudd  223.0      303.00        7.0  \n",
       "1                Self  224.0      307.00        1.0  \n",
       "2     330.5 Vial B 19  223.0      301.00        2.0  \n",
       "3                Self  221.0      297.00        2.0  \n",
       "4        305 Vial DMG  221.0      297.00       -2.0  "
      ]
     },
     "execution_count": 39,
     "metadata": {},
     "output_type": "execute_result"
    }
   ],
   "source": [
    "import pandas as pd\n",
    "watermelon_df = pd.DataFrame(watermelon_entries, columns=watermelon_headers)\n",
    "watermelon_df.head()"
   ]
  },
  {
   "attachments": {},
   "cell_type": "markdown",
   "metadata": {},
   "source": [
    "# Scraping, Part 7: Scraping multiple pages\n",
    "Enumerating and Traversing\n",
    "\n",
    "Considerations for scraping:\n",
    "* burden on web server\n",
    "* purpose/public interest\n",
    "* accountability - provide it"
   ]
  },
  {
   "attachments": {},
   "cell_type": "markdown",
   "metadata": {},
   "source": []
  },
  {
   "cell_type": "code",
   "execution_count": 40,
   "metadata": {},
   "outputs": [
    {
     "name": "stdout",
     "output_type": "stream",
     "text": [
      "https://scraping-practice-jsvine.vercel.app/launches/paginated/?page=1\n",
      "https://scraping-practice-jsvine.vercel.app/launches/paginated/?page=2\n",
      "https://scraping-practice-jsvine.vercel.app/launches/paginated/?page=3\n",
      "https://scraping-practice-jsvine.vercel.app/launches/paginated/?page=4\n",
      "https://scraping-practice-jsvine.vercel.app/launches/paginated/?page=5\n",
      "https://scraping-practice-jsvine.vercel.app/launches/paginated/?page=6\n",
      "https://scraping-practice-jsvine.vercel.app/launches/paginated/?page=7\n",
      "https://scraping-practice-jsvine.vercel.app/launches/paginated/?page=8\n",
      "https://scraping-practice-jsvine.vercel.app/launches/paginated/?page=9\n",
      "https://scraping-practice-jsvine.vercel.app/launches/paginated/?page=10\n",
      "https://scraping-practice-jsvine.vercel.app/launches/paginated/?page=11\n",
      "https://scraping-practice-jsvine.vercel.app/launches/paginated/?page=12\n",
      "https://scraping-practice-jsvine.vercel.app/launches/paginated/?page=13\n",
      "https://scraping-practice-jsvine.vercel.app/launches/paginated/?page=14\n",
      "https://scraping-practice-jsvine.vercel.app/launches/paginated/?page=15\n",
      "https://scraping-practice-jsvine.vercel.app/launches/paginated/?page=16\n",
      "https://scraping-practice-jsvine.vercel.app/launches/paginated/?page=17\n",
      "https://scraping-practice-jsvine.vercel.app/launches/paginated/?page=18\n",
      "https://scraping-practice-jsvine.vercel.app/launches/paginated/?page=19\n",
      "https://scraping-practice-jsvine.vercel.app/launches/paginated/?page=20\n",
      "https://scraping-practice-jsvine.vercel.app/launches/paginated/?page=21\n",
      "https://scraping-practice-jsvine.vercel.app/launches/paginated/?page=22\n",
      "https://scraping-practice-jsvine.vercel.app/launches/paginated/?page=23\n"
     ]
    }
   ],
   "source": [
    "#Enumerating multiple pages\n",
    "BASE_URL = \"https://scraping-practice-jsvine.vercel.app/launches/paginated/\"\n",
    "for i in range(23):\n",
    "    print(BASE_URL + \"?page=\" + str(i+1))\n"
   ]
  },
  {
   "cell_type": "code",
   "execution_count": 41,
   "metadata": {},
   "outputs": [
    {
     "name": "stdout",
     "output_type": "stream",
     "text": [
      "Page 1 of 23\n",
      "Page 2 of 23\n",
      "Page 3 of 23\n"
     ]
    }
   ],
   "source": [
    "BASE_URL = \"https://scraping-practice-jsvine.vercel.app/launches/paginated/\"\n",
    "\n",
    "# Note the shorter range, for practice\n",
    "for i in range(3):\n",
    "    page_url = BASE_URL + \"?page=\" + str(i + 1)\n",
    "    page_html = requests.get(page_url).text\n",
    "    page_soup = BeautifulSoup(page_html)\n",
    "    heading = page_soup.select(\"h3\")[0]\n",
    "    print(heading.text)"
   ]
  },
  {
   "cell_type": "code",
   "execution_count": 42,
   "metadata": {},
   "outputs": [
    {
     "name": "stdout",
     "output_type": "stream",
     "text": [
      "Fetching page 1\n",
      "Fetching page 2\n",
      "Fetching page 3\n"
     ]
    },
    {
     "data": {
      "text/plain": [
       "[['Jun 23, 2023',\n",
       "  'Starlink Group 5-12',\n",
       "  'Falcon 9',\n",
       "  'Space Exploration Technologies Corporation',\n",
       "  'FL'],\n",
       " ['Jun 22, 2023',\n",
       "  'Starlink Gp 5-7',\n",
       "  'Falcon 9',\n",
       "  'Space Exploration Technologies Corporation',\n",
       "  'CA'],\n",
       " ['Jun 18, 2023',\n",
       "  'PSN MFS',\n",
       "  'Falcon 9',\n",
       "  'Space Exploration Technologies Corporation',\n",
       "  'FL']]"
      ]
     },
     "execution_count": 42,
     "metadata": {},
     "output_type": "execute_result"
    }
   ],
   "source": [
    "#Store data itself and store it:\n",
    "all_rows = []\n",
    "\n",
    "for i in range(3):\n",
    "    print(\"Fetching page \" + str(i + 1))\n",
    "    page_url = BASE_URL + \"?page=\" + str(i + 1)\n",
    "    page_html = requests.get(page_url).text\n",
    "    page_soup = BeautifulSoup(page_html)\n",
    "    table = page_soup.select(\"table\")[0]\n",
    "    row_els = table.select(\"tbody tr\")\n",
    "    for tr in row_els:\n",
    "        cells = [ td.text for td in tr.select(\"td\") ]\n",
    "        all_rows.append(cells)\n",
    "        \n",
    "all_rows[:3]"
   ]
  },
  {
   "cell_type": "code",
   "execution_count": 43,
   "metadata": {},
   "outputs": [
    {
     "data": {
      "text/plain": [
       "75"
      ]
     },
     "execution_count": 43,
     "metadata": {},
     "output_type": "execute_result"
    }
   ],
   "source": [
    "len(all_rows)"
   ]
  },
  {
   "cell_type": "code",
   "execution_count": 45,
   "metadata": {},
   "outputs": [
    {
     "data": {
      "text/html": [
       "<div>\n",
       "<style scoped>\n",
       "    .dataframe tbody tr th:only-of-type {\n",
       "        vertical-align: middle;\n",
       "    }\n",
       "\n",
       "    .dataframe tbody tr th {\n",
       "        vertical-align: top;\n",
       "    }\n",
       "\n",
       "    .dataframe thead th {\n",
       "        text-align: right;\n",
       "    }\n",
       "</style>\n",
       "<table border=\"1\" class=\"dataframe\">\n",
       "  <thead>\n",
       "    <tr style=\"text-align: right;\">\n",
       "      <th></th>\n",
       "      <th>0</th>\n",
       "      <th>1</th>\n",
       "      <th>2</th>\n",
       "      <th>3</th>\n",
       "      <th>4</th>\n",
       "    </tr>\n",
       "  </thead>\n",
       "  <tbody>\n",
       "    <tr>\n",
       "      <th>0</th>\n",
       "      <td>Jun 23, 2023</td>\n",
       "      <td>Starlink Group 5-12</td>\n",
       "      <td>Falcon 9</td>\n",
       "      <td>Space Exploration Technologies Corporation</td>\n",
       "      <td>FL</td>\n",
       "    </tr>\n",
       "    <tr>\n",
       "      <th>1</th>\n",
       "      <td>Jun 22, 2023</td>\n",
       "      <td>Starlink Gp 5-7</td>\n",
       "      <td>Falcon 9</td>\n",
       "      <td>Space Exploration Technologies Corporation</td>\n",
       "      <td>CA</td>\n",
       "    </tr>\n",
       "    <tr>\n",
       "      <th>2</th>\n",
       "      <td>Jun 18, 2023</td>\n",
       "      <td>PSN MFS</td>\n",
       "      <td>Falcon 9</td>\n",
       "      <td>Space Exploration Technologies Corporation</td>\n",
       "      <td>FL</td>\n",
       "    </tr>\n",
       "    <tr>\n",
       "      <th>3</th>\n",
       "      <td>Jun 17, 2023</td>\n",
       "      <td>FST-1</td>\n",
       "      <td>Electron</td>\n",
       "      <td>Rocket Lab Global</td>\n",
       "      <td>VA</td>\n",
       "    </tr>\n",
       "    <tr>\n",
       "      <th>4</th>\n",
       "      <td>Jun 12, 2023</td>\n",
       "      <td>Transporter-8</td>\n",
       "      <td>Falcon 9</td>\n",
       "      <td>Space Exploration Technologies Corporation</td>\n",
       "      <td>CA</td>\n",
       "    </tr>\n",
       "    <tr>\n",
       "      <th>...</th>\n",
       "      <td>...</td>\n",
       "      <td>...</td>\n",
       "      <td>...</td>\n",
       "      <td>...</td>\n",
       "      <td>...</td>\n",
       "    </tr>\n",
       "    <tr>\n",
       "      <th>70</th>\n",
       "      <td>Oct 5, 2022</td>\n",
       "      <td>Crew-5</td>\n",
       "      <td>Falcon 9</td>\n",
       "      <td>Space Exploration Technologies Corporation</td>\n",
       "      <td>FL</td>\n",
       "    </tr>\n",
       "    <tr>\n",
       "      <th>71</th>\n",
       "      <td>Oct 4, 2022</td>\n",
       "      <td>SES 20-21</td>\n",
       "      <td>Atlas V</td>\n",
       "      <td>United Launch Alliance</td>\n",
       "      <td>FL</td>\n",
       "    </tr>\n",
       "    <tr>\n",
       "      <th>72</th>\n",
       "      <td>Oct 1, 2022</td>\n",
       "      <td>FLTA002</td>\n",
       "      <td>Alpha</td>\n",
       "      <td>Firefly Aerospace</td>\n",
       "      <td>CA</td>\n",
       "    </tr>\n",
       "    <tr>\n",
       "      <th>73</th>\n",
       "      <td>Sep 24, 2022</td>\n",
       "      <td>Starlink Group 4-35</td>\n",
       "      <td>Falcon 9</td>\n",
       "      <td>Space Exploration Technologies Corporation</td>\n",
       "      <td>FL</td>\n",
       "    </tr>\n",
       "    <tr>\n",
       "      <th>74</th>\n",
       "      <td>Sep 18, 2022</td>\n",
       "      <td>Starlink Group 4-34</td>\n",
       "      <td>Falcon 9</td>\n",
       "      <td>Space Exploration Technologies Corporation</td>\n",
       "      <td>FL</td>\n",
       "    </tr>\n",
       "  </tbody>\n",
       "</table>\n",
       "<p>75 rows × 5 columns</p>\n",
       "</div>"
      ],
      "text/plain": [
       "               0                    1         2  \\\n",
       "0   Jun 23, 2023  Starlink Group 5-12  Falcon 9   \n",
       "1   Jun 22, 2023      Starlink Gp 5-7  Falcon 9   \n",
       "2   Jun 18, 2023              PSN MFS  Falcon 9   \n",
       "3   Jun 17, 2023                FST-1  Electron   \n",
       "4   Jun 12, 2023        Transporter-8  Falcon 9   \n",
       "..           ...                  ...       ...   \n",
       "70   Oct 5, 2022               Crew-5  Falcon 9   \n",
       "71   Oct 4, 2022            SES 20-21   Atlas V   \n",
       "72   Oct 1, 2022              FLTA002     Alpha   \n",
       "73  Sep 24, 2022  Starlink Group 4-35  Falcon 9   \n",
       "74  Sep 18, 2022  Starlink Group 4-34  Falcon 9   \n",
       "\n",
       "                                             3   4  \n",
       "0   Space Exploration Technologies Corporation  FL  \n",
       "1   Space Exploration Technologies Corporation  CA  \n",
       "2   Space Exploration Technologies Corporation  FL  \n",
       "3                            Rocket Lab Global  VA  \n",
       "4   Space Exploration Technologies Corporation  CA  \n",
       "..                                         ...  ..  \n",
       "70  Space Exploration Technologies Corporation  FL  \n",
       "71                      United Launch Alliance  FL  \n",
       "72                           Firefly Aerospace  CA  \n",
       "73  Space Exploration Technologies Corporation  FL  \n",
       "74  Space Exploration Technologies Corporation  FL  \n",
       "\n",
       "[75 rows x 5 columns]"
      ]
     },
     "execution_count": 45,
     "metadata": {},
     "output_type": "execute_result"
    }
   ],
   "source": [
    "sample_pd = pd.DataFrame(all_rows)\n",
    "sample_pd"
   ]
  },
  {
   "attachments": {},
   "cell_type": "markdown",
   "metadata": {},
   "source": [
    "# Traversing directories and other listings"
   ]
  },
  {
   "cell_type": "code",
   "execution_count": 46,
   "metadata": {},
   "outputs": [],
   "source": [
    "#How to get table from each sub page\n",
    "#Get URLS for each subpage\n",
    "\n",
    "BASE_URL = \"https://scraping-practice-jsvine.vercel.app/launches/directory/\"\n",
    "html = requests.get(BASE_URL).text\n",
    "soup = BeautifulSoup(html)"
   ]
  },
  {
   "cell_type": "code",
   "execution_count": 47,
   "metadata": {},
   "outputs": [
    {
     "name": "stdout",
     "output_type": "stream",
     "text": [
      "https://scraping-practice-jsvine.vercel.app/launches/directory/cb50c8c\n",
      "https://scraping-practice-jsvine.vercel.app/launches/directory/6840f28\n",
      "https://scraping-practice-jsvine.vercel.app/launches/directory/0ed154e\n"
     ]
    }
   ],
   "source": [
    "#Try to get href attribute for each of the links:\n",
    "links = soup.select(\"ul li a\")\n",
    "\n",
    "for link in links[:3]:\n",
    "    print(BASE_URL + link[\"href\"])"
   ]
  },
  {
   "cell_type": "code",
   "execution_count": 48,
   "metadata": {},
   "outputs": [
    {
     "name": "stdout",
     "output_type": "stream",
     "text": [
      "Commercial Space Launches: ABL Space Systems\n",
      "Commercial Space Launches: American Rocket\n",
      "Commercial Space Launches: Armadillo Aerospace\n"
     ]
    }
   ],
   "source": [
    "#Expansion to pull header from each sub page\n",
    "\n",
    "for link in links[:3]:\n",
    "    page_url = BASE_URL + link[\"href\"]\n",
    "    page_html = requests.get(page_url).text\n",
    "    page_soup = BeautifulSoup(page_html)\n",
    "    heading = page_soup.select(\"h1\")[0]\n",
    "    print(heading.text)"
   ]
  },
  {
   "cell_type": "code",
   "execution_count": 55,
   "metadata": {},
   "outputs": [
    {
     "name": "stdout",
     "output_type": "stream",
     "text": [
      "Fetching https://scraping-practice-jsvine.vercel.app/launches/directory/cb50c8c\n",
      "Fetching https://scraping-practice-jsvine.vercel.app/launches/directory/6840f28\n",
      "Fetching https://scraping-practice-jsvine.vercel.app/launches/directory/0ed154e\n"
     ]
    },
    {
     "data": {
      "text/html": [
       "<div>\n",
       "<style scoped>\n",
       "    .dataframe tbody tr th:only-of-type {\n",
       "        vertical-align: middle;\n",
       "    }\n",
       "\n",
       "    .dataframe tbody tr th {\n",
       "        vertical-align: top;\n",
       "    }\n",
       "\n",
       "    .dataframe thead th {\n",
       "        text-align: right;\n",
       "    }\n",
       "</style>\n",
       "<table border=\"1\" class=\"dataframe\">\n",
       "  <thead>\n",
       "    <tr style=\"text-align: right;\">\n",
       "      <th></th>\n",
       "      <th>0</th>\n",
       "      <th>1</th>\n",
       "      <th>2</th>\n",
       "      <th>3</th>\n",
       "      <th>4</th>\n",
       "    </tr>\n",
       "  </thead>\n",
       "  <tbody>\n",
       "    <tr>\n",
       "      <th>0</th>\n",
       "      <td>Jan 10, 2023</td>\n",
       "      <td>Demonstration Mission-1</td>\n",
       "      <td>RS1</td>\n",
       "      <td>ABL Space Systems</td>\n",
       "      <td>AK</td>\n",
       "    </tr>\n",
       "    <tr>\n",
       "      <th>1</th>\n",
       "      <td>Oct 5, 1989</td>\n",
       "      <td>SET-1</td>\n",
       "      <td>SMLV</td>\n",
       "      <td>American Rocket</td>\n",
       "      <td>CA</td>\n",
       "    </tr>\n",
       "    <tr>\n",
       "      <th>2</th>\n",
       "      <td>Jan 5, 2013</td>\n",
       "      <td>Scientific</td>\n",
       "      <td>STIG-B III</td>\n",
       "      <td>Armadillo Aerospace</td>\n",
       "      <td>NM</td>\n",
       "    </tr>\n",
       "    <tr>\n",
       "      <th>3</th>\n",
       "      <td>Nov 4, 2012</td>\n",
       "      <td>Scientific</td>\n",
       "      <td>STIG-B</td>\n",
       "      <td>Armadillo Aerospace</td>\n",
       "      <td>NM</td>\n",
       "    </tr>\n",
       "    <tr>\n",
       "      <th>4</th>\n",
       "      <td>Oct 6, 2012</td>\n",
       "      <td>Scientific</td>\n",
       "      <td>STIG-B</td>\n",
       "      <td>Armadillo Aerospace</td>\n",
       "      <td>NM</td>\n",
       "    </tr>\n",
       "  </tbody>\n",
       "</table>\n",
       "</div>"
      ],
      "text/plain": [
       "              0                        1           2                    3   4\n",
       "0  Jan 10, 2023  Demonstration Mission-1         RS1    ABL Space Systems  AK\n",
       "1   Oct 5, 1989                    SET-1        SMLV      American Rocket  CA\n",
       "2   Jan 5, 2013               Scientific  STIG-B III  Armadillo Aerospace  NM\n",
       "3   Nov 4, 2012               Scientific      STIG-B  Armadillo Aerospace  NM\n",
       "4   Oct 6, 2012               Scientific      STIG-B  Armadillo Aerospace  NM"
      ]
     },
     "execution_count": 55,
     "metadata": {},
     "output_type": "execute_result"
    }
   ],
   "source": [
    "#Pull all the row from the first 3 companies into a dataframe\n",
    "all_rows = []\n",
    "\n",
    "links = soup.select(\"ul li a\")\n",
    "\n",
    "for link in links[:3]:\n",
    "    page_url = BASE_URL + link[\"href\"]\n",
    "    print(\"Fetching \" + page_url)\n",
    "    page_html = requests.get(page_url).text\n",
    "    page_soup = BeautifulSoup(page_html)\n",
    "    table = page_soup.select(\"table\")[0]\n",
    "    row_els = table.select(\"tbody tr\")\n",
    "    for tr in row_els:\n",
    "        cells = []\n",
    "        for td in tr.select(\"td\"):\n",
    "            cells.append(td.text)\n",
    "        all_rows.append(cells)\n",
    "        \n",
    "pd.DataFrame(all_rows)\n"
   ]
  },
  {
   "attachments": {},
   "cell_type": "markdown",
   "metadata": {},
   "source": [
    "# Scraping, Part 8: Scraping gracefully\n",
    "\n",
    "1. Sleeping- Pausing execcution of python; may want to add some slowness if scraping on a delicate site\n",
    "2. Announcing yourself - Send information about yourself as you request\n",
    "3. Caching\n",
    "4. Catching http errors"
   ]
  },
  {
   "cell_type": "code",
   "execution_count": 58,
   "metadata": {},
   "outputs": [
    {
     "name": "stdout",
     "output_type": "stream",
     "text": [
      "Fetching page 1\n",
      "Fetching page 2\n",
      "Fetching page 3\n"
     ]
    }
   ],
   "source": [
    "#Sleeping - pauses fetching; number refers to seconds for pause\n",
    "from time import sleep\n",
    "for i in range(3):\n",
    "        print(\"Fetching page \" + str(i+1))\n",
    "        sleep(1)"
   ]
  },
  {
   "cell_type": "code",
   "execution_count": null,
   "metadata": {},
   "outputs": [],
   "source": [
    "# Announcing yourself\n",
    "ident = (\n",
    "    \"Jeremy Singer-Vine (jsvine@gmail.com), \" + \n",
    "    \"scraping for educational purposes\"\n",
    ")\n",
    "\n",
    "html = requests.get(\n",
    "    \"https://example.com\",\n",
    "    headers = {\n",
    "        \"From\": ident\n",
    "    }\n",
    ").text"
   ]
  },
  {
   "attachments": {},
   "cell_type": "markdown",
   "metadata": {},
   "source": [
    "* Caching- Fetech each page only once (unless it's changing rapidly)\n",
    "* Make a subdirectory in your notebooks using mkdir table--pages\n"
   ]
  },
  {
   "cell_type": "code",
   "execution_count": 67,
   "metadata": {},
   "outputs": [
    {
     "name": "stdout",
     "output_type": "stream",
     "text": [
      "Fetching https://scraping-practice-jsvine.vercel.app/launches/paginated/?page=1\n",
      "Page 1 of 23\n",
      "Fetching https://scraping-practice-jsvine.vercel.app/launches/paginated/?page=2\n",
      "Page 2 of 23\n",
      "Fetching https://scraping-practice-jsvine.vercel.app/launches/paginated/?page=3\n",
      "Page 3 of 23\n"
     ]
    }
   ],
   "source": [
    "#Make subdirectory\n",
    "\n",
    "from pathlib import Path\n",
    "\n",
    "#create folder called table pages\n",
    "\n",
    "BASE_URL = \"https://scraping-practice-jsvine.vercel.app/launches/paginated/\"\n",
    "\n",
    "for i in range(3):\n",
    "    dest = Path(\"table-pages/\" + str(i + 1) + \".html\")\n",
    "    \n",
    "    if dest.exists(): # ... load it from file\n",
    "        page_html = open(dest).read()\n",
    "        \n",
    "    else: # ... fetch it\n",
    "        page_url = BASE_URL + \"?page=\" + str(i + 1)\n",
    "        print(\"Fetching \" + page_url)\n",
    "        page_html = requests.get(page_url).text\n",
    "        \n",
    "        # ... and then save it to file\n",
    "        with open(dest, \"w\") as f:\n",
    "            f.write(page_html)\n",
    "            \n",
    "    page_soup = BeautifulSoup(page_html)\n",
    "    heading = page_soup.select(\"h3\")[0]\n",
    "    print(heading.text)\n"
   ]
  },
  {
   "cell_type": "code",
   "execution_count": 65,
   "metadata": {},
   "outputs": [
    {
     "data": {
      "text/plain": [
       "<Response [500]>"
      ]
     },
     "execution_count": 65,
     "metadata": {},
     "output_type": "execute_result"
    }
   ],
   "source": [
    "# Catching HTTP errors\n",
    "flaky_url = \"https://scraping-practice-jsvine.vercel.app/launches/paginated/flaky/\"\n",
    "\n",
    "requests.get(flaky_url)"
   ]
  },
  {
   "cell_type": "code",
   "execution_count": 66,
   "metadata": {},
   "outputs": [
    {
     "name": "stdout",
     "output_type": "stream",
     "text": [
      "200\n"
     ]
    }
   ],
   "source": [
    "response = requests.get(flaky_url)\n",
    "print(response.status_code)"
   ]
  },
  {
   "attachments": {},
   "cell_type": "markdown",
   "metadata": {},
   "source": []
  }
 ],
 "metadata": {
  "kernelspec": {
   "display_name": "Python 3",
   "language": "python",
   "name": "python3"
  },
  "language_info": {
   "codemirror_mode": {
    "name": "ipython",
    "version": 3
   },
   "file_extension": ".py",
   "mimetype": "text/x-python",
   "name": "python",
   "nbconvert_exporter": "python",
   "pygments_lexer": "ipython3",
   "version": "3.10.11"
  },
  "orig_nbformat": 4
 },
 "nbformat": 4,
 "nbformat_minor": 2
}
