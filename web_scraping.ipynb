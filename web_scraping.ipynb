{
 "cells": [
  {
   "cell_type": "code",
   "execution_count": 2,
   "metadata": {},
   "outputs": [],
   "source": [
    "import requests\n",
    "from bs4 import BeautifulSoup"
   ]
  },
  {
   "cell_type": "code",
   "execution_count": 9,
   "metadata": {},
   "outputs": [
    {
     "name": "stdout",
     "output_type": "stream",
     "text": [
      "0\n",
      "apples\n",
      "1\n",
      "bananas\n",
      "2\n",
      "oranges\n"
     ]
    }
   ],
   "source": [
    "#enumerate -used to number items\n",
    "#'i' is a variable that can be replaced with any other word\n",
    "fruits = [ \"apples\", \"bananas\", \"oranges\"]\n",
    "for i, fruit in enumerate(fruits):\n",
    "    print(i)\n",
    "    print(fruit)"
   ]
  },
  {
   "cell_type": "code",
   "execution_count": 12,
   "metadata": {},
   "outputs": [
    {
     "name": "stdout",
     "output_type": "stream",
     "text": [
      "0\n",
      "apples\n",
      "1\n",
      "bananas\n",
      "2\n",
      "oranges\n"
     ]
    }
   ],
   "source": [
    "#This is what is happening behind the scenes. Use format above to simplify.\n",
    "i = 0\n",
    "for fruit in fruits:\n",
    "    print(i)\n",
    "    print(fruit)\n",
    "    i = i + 1"
   ]
  },
  {
   "cell_type": "code",
   "execution_count": 17,
   "metadata": {},
   "outputs": [
    {
     "name": "stdout",
     "output_type": "stream",
     "text": [
      "['We eat apples', 'We eat bananas', 'We eat oranges']\n"
     ]
    }
   ],
   "source": [
    "#long way to append\n",
    "phrases = []\n",
    "for fruit in fruits:\n",
    "    phrases.append(\"We eat \" + fruit)\n",
    "print(phrases)"
   ]
  },
  {
   "cell_type": "code",
   "execution_count": 21,
   "metadata": {},
   "outputs": [
    {
     "data": {
      "text/plain": [
       "[6, 7, 7]"
      ]
     },
     "execution_count": 21,
     "metadata": {},
     "output_type": "execute_result"
    }
   ],
   "source": [
    "#simpler way to append\n",
    "[\"We eat \" + fruit for fruit in fruits]\n",
    "\n",
    "[len(fruit) for fruit in fruits]"
   ]
  },
  {
   "cell_type": "code",
   "execution_count": null,
   "metadata": {},
   "outputs": [],
   "source": []
  }
 ],
 "metadata": {
  "kernelspec": {
   "display_name": "Python 3",
   "language": "python",
   "name": "python3"
  },
  "language_info": {
   "codemirror_mode": {
    "name": "ipython",
    "version": 3
   },
   "file_extension": ".py",
   "mimetype": "text/x-python",
   "name": "python",
   "nbconvert_exporter": "python",
   "pygments_lexer": "ipython3",
   "version": "3.10.11"
  },
  "orig_nbformat": 4
 },
 "nbformat": 4,
 "nbformat_minor": 2
}
